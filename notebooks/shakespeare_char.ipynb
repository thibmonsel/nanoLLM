{
 "cells": [
  {
   "cell_type": "markdown",
   "metadata": {},
   "source": [
    "# Generating Shakespeare character by character"
   ]
  },
  {
   "cell_type": "markdown",
   "metadata": {},
   "source": [
    "This is a small example of a GPT that is trained on Shakespeare text. This notebook has major inspiration from https://github.com/karpathy/nanoGPT. It's great to get familiar and play around with GPT alwhile not necessarly having a cluster of 1000s of GPUs."
   ]
  },
  {
   "cell_type": "code",
   "execution_count": null,
   "metadata": {},
   "outputs": [],
   "source": [
    "import os\n",
    "import pickle\n",
    "\n",
    "import matplotlib.pyplot as plt\n",
    "import torch\n",
    "from nanoLLMs.misc import get_batch\n",
    "from nanoLLMs.model.gpt2 import GPT2\n",
    "from nanoLLMs.model import LLMMamba, MambaConfig\n",
    "from nanoLLMs.trainer import Trainer\n",
    "\n",
    "device = torch.device(\"cuda\" if torch.cuda.is_available() else \"cpu\")"
   ]
  },
  {
   "cell_type": "markdown",
   "metadata": {},
   "source": [
    "We launch the `data/shakespeare_char/prepare.py` file in order to have our data setup."
   ]
  },
  {
   "cell_type": "code",
   "execution_count": 8,
   "metadata": {},
   "outputs": [
    {
     "name": "stdout",
     "output_type": "stream",
     "text": [
      "length of dataset in characters: 1,115,394\n",
      "all the unique characters: \n",
      " !$&',-.3:;?ABCDEFGHIJKLMNOPQRSTUVWXYZabcdefghijklmnopqrstuvwxyz\n",
      "vocab size: 65\n",
      "train has 1,003,854 tokens\n",
      "val has 111,540 tokens\n"
     ]
    }
   ],
   "source": [
    "! python ../data/shakespeare_char/prepare.py "
   ]
  },
  {
   "cell_type": "markdown",
   "metadata": {},
   "source": [
    "In this dataset we have 65 unique characters that forms our vocabulary size, 1M tokens for training and 100k for validation."
   ]
  },
  {
   "cell_type": "code",
   "execution_count": 3,
   "metadata": {},
   "outputs": [
    {
     "name": "stdout",
     "output_type": "stream",
     "text": [
      "found vocab_size = 65 (inside ../data/shakespeare_char/meta.pkl)\n"
     ]
    }
   ],
   "source": [
    "data_dir = \"../data/shakespeare_char/\"\n",
    "meta_path = os.path.join(data_dir, \"meta.pkl\")\n",
    "vocab_size = None\n",
    "\n",
    "if os.path.exists(meta_path):\n",
    "    with open(meta_path, \"rb\") as f:\n",
    "        meta = pickle.load(f)\n",
    "    vocab_size = meta[\"vocab_size\"]\n",
    "    itos = meta[\"itos\"]\n",
    "    stoi = meta[\"stoi\"]\n",
    "    print(f\"found vocab_size = {vocab_size} (inside {meta_path})\")"
   ]
  },
  {
   "cell_type": "markdown",
   "metadata": {},
   "source": [
    "We then get some meta data and other convienences. For example, the GPT trained hereafter will have the task of predicting the next Shakesperian character given its context. Autoregressively, you can generate many characters that will eventually form words and sentences.\n",
    "\n",
    "The function `encode` and `decode` will help to bridge the gap between produced GPT output into readable characters and readable characters into data.\n",
    "\n",
    "We also provide an example of how a `str` is encoded for the model and how the model's output `array` of `int` are decoded to produce Shaspearian literature."
   ]
  },
  {
   "cell_type": "code",
   "execution_count": 4,
   "metadata": {},
   "outputs": [
    {
     "name": "stdout",
     "output_type": "stream",
     "text": [
      "The text 'the king will' is encoded and fed to the GPT as tensor([58, 46, 43,  1, 49, 47, 52, 45,  1, 61, 47, 50, 50])\n"
     ]
    }
   ],
   "source": [
    "encode = lambda s: torch.tensor([stoi[c] for c in s])\n",
    "decode = lambda l: \"\".join([itos[i] for i in l])\n",
    "\n",
    "shakpeare_lines = \"the king will\"\n",
    "x = encode(shakpeare_lines)\n",
    "y = decode(x.tolist())\n",
    "assert shakpeare_lines == y\n",
    "\n",
    "print(\"The text '{}' is encoded and fed to the GPT as {}\".format(shakpeare_lines, x))"
   ]
  },
  {
   "cell_type": "markdown",
   "metadata": {},
   "source": [
    "We then choose to use the same hyperparameters from https://github.com/karpathy/nanoGPT for a small example of CPU. "
   ]
  },
  {
   "cell_type": "code",
   "execution_count": 11,
   "metadata": {},
   "outputs": [
    {
     "name": "stdout",
     "output_type": "stream",
     "text": [
      "GPT number of parameters: 813889\n"
     ]
    }
   ],
   "source": [
    "block_size = 64\n",
    "n_layer, n_head, n_embd, dropout = 4, 4, 128, 0.0\n",
    "\n",
    "model = GPT2(vocab_size, block_size, n_embd, n_head, n_layer)\n",
    "model = model.to(device)\n",
    "print(\"GPT number of parameters:\", sum(p.numel() for p in model.parameters()))"
   ]
  },
  {
   "cell_type": "markdown",
   "metadata": {},
   "source": [
    "We instantiate also our `GPTTrainer` code from `nanoLLMs/trainer/gpt_trainer.py`. "
   ]
  },
  {
   "cell_type": "code",
   "execution_count": null,
   "metadata": {},
   "outputs": [
    {
     "name": "stdout",
     "output_type": "stream",
     "text": [
      "Created checkpoint directory at ../metadata/shakespeare_char/\n"
     ]
    }
   ],
   "source": [
    "trainer = Trainer(model, lr=1e-3, checkpoint_path=\"../metadata/shakespeare_char/\")"
   ]
  },
  {
   "cell_type": "markdown",
   "metadata": {},
   "source": [
    "We call the `train` method from our `trainer` that takes as input : \n",
    "- `get_batch`: a function that fetches batches of data\n",
    "- `max_iters`: number of max iterations\n",
    "- `batch_size`: batch size \n",
    "- `patience`: an argument that essentially stops the training if the validation loss hasn't improve in `#patience` optimization steps. \n",
    "- `save_every`: that saves the model weights and other things at `save_every` multiples of iteration step. "
   ]
  },
  {
   "cell_type": "code",
   "execution_count": 5,
   "metadata": {},
   "outputs": [
    {
     "ename": "NameError",
     "evalue": "name 'trainer' is not defined",
     "output_type": "error",
     "traceback": [
      "\u001b[0;31m---------------------------------------------------------------------------\u001b[0m",
      "\u001b[0;31mNameError\u001b[0m                                 Traceback (most recent call last)",
      "Cell \u001b[0;32mIn[5], line 4\u001b[0m\n\u001b[1;32m      1\u001b[0m partial_get_batch \u001b[38;5;241m=\u001b[39m \u001b[38;5;28;01mlambda\u001b[39;00m split, batch_size: get_batch(\n\u001b[1;32m      2\u001b[0m     data_dir, split, batch_size, device, block_size\n\u001b[1;32m      3\u001b[0m )\n\u001b[0;32m----> 4\u001b[0m \u001b[43mtrainer\u001b[49m\u001b[38;5;241m.\u001b[39mtrain(\n\u001b[1;32m      5\u001b[0m     partial_get_batch, max_iters\u001b[38;5;241m=\u001b[39m\u001b[38;5;241m5000\u001b[39m, batch_size\u001b[38;5;241m=\u001b[39m\u001b[38;5;241m2\u001b[39m\u001b[38;5;241m*\u001b[39m\u001b[38;5;241m128\u001b[39m, patience\u001b[38;5;241m=\u001b[39m\u001b[38;5;241m2000\u001b[39m, save_every\u001b[38;5;241m=\u001b[39m\u001b[38;5;241m200\u001b[39m\n\u001b[1;32m      6\u001b[0m )\n",
      "\u001b[0;31mNameError\u001b[0m: name 'trainer' is not defined"
     ]
    }
   ],
   "source": [
    "partial_get_batch = lambda split, batch_size: get_batch(\n",
    "    data_dir, split, batch_size, device, block_size\n",
    ")\n",
    "trainer.train(\n",
    "    partial_get_batch, max_iters=5000, batch_size=2*128, patience=2000, save_every=200\n",
    ")"
   ]
  },
  {
   "cell_type": "markdown",
   "metadata": {},
   "source": [
    "Let's see the loss curve from this training and also generate some text !"
   ]
  },
  {
   "cell_type": "code",
   "execution_count": 29,
   "metadata": {},
   "outputs": [
    {
     "data": {
      "image/png": "[encoded data removed]",
      "text/plain": [
       "<Figure size 640x480 with 1 Axes>"
      ]
     },
     "metadata": {},
     "output_type": "display_data"
    }
   ],
   "source": [
    "plt.plot(trainer.losses, label=\"train\")\n",
    "plt.plot(trainer.val_losses, label=\"val\")\n",
    "plt.xlabel(\"iteration steps\")\n",
    "plt.ylabel(\"loss\")\n",
    "plt.legend()\n",
    "plt.savefig(\"../metadata/shakespeare_char/loss.png\")"
   ]
  },
  {
   "cell_type": "markdown",
   "metadata": {},
   "source": [
    "We also added a `temperature` and `top_k` hyperparameters to give a bit more flexibility to the text generation. "
   ]
  },
  {
   "cell_type": "code",
   "execution_count": 30,
   "metadata": {},
   "outputs": [
    {
     "name": "stderr",
     "output_type": "stream",
     "text": [
      "100%|██████████| 512/512 [00:00<00:00, 1173.41it/s]"
     ]
    },
    {
     "name": "stdout",
     "output_type": "stream",
     "text": [
      "the king will \n",
      "Both every 'lie enter'd and be it, ho!'\n",
      "And beat the salf; O, Ichold you shall be the\n",
      "return, I may crie-conduct, look to.\n",
      "\n",
      "GLOUCESTER:\n",
      "And there's a mile calles of it is short!\n",
      "\n",
      "FRIAR LED:\n",
      "Rope and sent it shall degree no outward! he was\n",
      "of his bating worthy Corioli long\n",
      "And himself we have been daughter of me.\n",
      "\n",
      "GLOUCESTER:\n",
      "No, then, take him up, poor silent for Bolingbroke\n",
      "It of them false stay.\n",
      "\n",
      "TYBALT:\n",
      "Why, then, let here be come to down it beg\n",
      "Hath wine to my heart beard. Is there\n",
      "Is my life's wars his\n"
     ]
    },
    {
     "name": "stderr",
     "output_type": "stream",
     "text": [
      "\n"
     ]
    }
   ],
   "source": [
    "model.eval()\n",
    "x = encode(\"the king will \\n\")\n",
    "x = x.view(1, -1).to(device)\n",
    "y = model.generate(x, 2 * 256, temperature=1.0, top_k=None)\n",
    "print(decode(y[0].tolist()))"
   ]
  },
  {
   "cell_type": "markdown",
   "metadata": {},
   "source": [
    "# Text generation with Mamba"
   ]
  },
  {
   "cell_type": "code",
   "execution_count": 2,
   "metadata": {},
   "outputs": [
    {
     "name": "stdout",
     "output_type": "stream",
     "text": [
      "found vocab_size = 65 (inside ../data/shakespeare_char/meta.pkl)\n"
     ]
    }
   ],
   "source": [
    "data_dir = \"../data/shakespeare_char/\"\n",
    "meta_path = os.path.join(data_dir, \"meta.pkl\")\n",
    "vocab_size = None\n",
    "\n",
    "if os.path.exists(meta_path):\n",
    "    with open(meta_path, \"rb\") as f:\n",
    "        meta = pickle.load(f)\n",
    "    vocab_size = meta[\"vocab_size\"]\n",
    "    itos = meta[\"itos\"]\n",
    "    stoi = meta[\"stoi\"]\n",
    "    print(f\"found vocab_size = {vocab_size} (inside {meta_path})\")"
   ]
  },
  {
   "cell_type": "code",
   "execution_count": 3,
   "metadata": {},
   "outputs": [
    {
     "name": "stdout",
     "output_type": "stream",
     "text": [
      "The text 'the king will' is encoded and fed to the GPT as tensor([58, 46, 43,  1, 49, 47, 52, 45,  1, 61, 47, 50, 50])\n"
     ]
    }
   ],
   "source": [
    "encode = lambda s: torch.tensor([stoi[c] for c in s])\n",
    "decode = lambda l: \"\".join([itos[i] for i in l])\n",
    "\n",
    "shakpeare_lines = \"the king will\"\n",
    "x = encode(shakpeare_lines)\n",
    "y = decode(x.tolist())\n",
    "assert shakpeare_lines == y\n",
    "\n",
    "print(\"The text '{}' is encoded and fed to the GPT as {}\".format(shakpeare_lines, x))"
   ]
  },
  {
   "cell_type": "code",
   "execution_count": 4,
   "metadata": {},
   "outputs": [],
   "source": [
    "config = MambaConfig(d_model=32, n_layers=6, d_state=16)\n",
    "model = LLMMamba(config, vocab_size=vocab_size)\n",
    "model = model.to(device)"
   ]
  },
  {
   "cell_type": "code",
   "execution_count": 5,
   "metadata": {},
   "outputs": [],
   "source": [
    "max_iters, batch_size = 1000, 32\n",
    "counter, best_val_step = 0, 0\n",
    "block_size = 64\n",
    "get_batch_fn = lambda split, batch_size: get_batch(\n",
    "    data_dir, split, batch_size, device, block_size\n",
    ")"
   ]
  },
  {
   "cell_type": "code",
   "execution_count": null,
   "metadata": {},
   "outputs": [
    {
     "name": "stdout",
     "output_type": "stream",
     "text": [
      "Created checkpoint directory at ../metadata/shakespeare_char/\n"
     ]
    }
   ],
   "source": [
    "trainer = Trainer(model, lr=1e-3, checkpoint_path=\"../metadata/shakespeare_char/\")"
   ]
  },
  {
   "cell_type": "code",
   "execution_count": 7,
   "metadata": {},
   "outputs": [
    {
     "name": "stderr",
     "output_type": "stream",
     "text": [
      "Iter :999/1000 Train Loss 1.515e+00 / Eval Loss 1.741e+00: 100%|██████████| 1000/1000 [11:28<00:00,  1.45it/s]\n"
     ]
    }
   ],
   "source": [
    "partial_get_batch = lambda split, batch_size: get_batch(\n",
    "    data_dir, split, batch_size, device, block_size\n",
    ")\n",
    "trainer.train(\n",
    "    partial_get_batch, max_iters=1000, batch_size=2*128, patience=2000, save_every=200\n",
    ")"
   ]
  },
  {
   "cell_type": "code",
   "execution_count": 8,
   "metadata": {},
   "outputs": [
    {
     "data": {
      "image/png": "[encoded data removed]",
      "text/plain": [
       "<Figure size 640x480 with 1 Axes>"
      ]
     },
     "metadata": {},
     "output_type": "display_data"
    }
   ],
   "source": [
    "plt.plot(trainer.losses, label=\"train\")\n",
    "plt.plot(trainer.val_losses, label=\"val\")\n",
    "plt.xlabel(\"iteration steps\")\n",
    "plt.ylabel(\"loss\")\n",
    "plt.legend()\n",
    "plt.savefig(\"../metadata/shakespeare_char/mamba_loss.png\")"
   ]
  },
  {
   "cell_type": "code",
   "execution_count": 9,
   "metadata": {},
   "outputs": [
    {
     "name": "stdout",
     "output_type": "stream",
     "text": [
      "O?\n",
      "Comes is\n",
      "sworn at heavy? what entends,\n",
      "But this love he made bolirio,\n",
      "I never\n",
      "By sure, sost must servity?\n",
      "Can'll, proud not many labout to\n",
      "Selliut!\n",
      "If recousi.\n",
      "\n",
      "PRINCE EDWAMAL:\n",
      "How that there's not a between sound redrip thy day Do comscantest.\n",
      "\n",
      "MILTRold:\n",
      "I would Becking benecious of that what.\n",
      "\n",
      "CORIOLANUS:\n",
      "Thou wripited therefore he the phating,\n",
      "To morous!\n",
      "The sire as a mid dowr thyself will\n",
      "'Tat widows he, if her hell:\n",
      "For valick out of that till he empusning me, from there's forhey\n",
      "no post bear too to\n"
     ]
    }
   ],
   "source": [
    "model.eval()\n",
    "x = encode(\"the king will \\n\")\n",
    "x = x.view(1, -1).to(device)\n",
    "y = model.generate(x, 2 * 256, temperature=1.0, top_k=None)\n",
    "print(decode(y[0].tolist()))"
   ]
  },
  {
   "cell_type": "markdown",
   "metadata": {},
   "source": [
    "# xLSTM "
   ]
  },
  {
   "cell_type": "code",
   "execution_count": 35,
   "metadata": {},
   "outputs": [],
   "source": [
    "from nanoLLMs.model.xlstm import xLSTM"
   ]
  },
  {
   "cell_type": "code",
   "execution_count": 29,
   "metadata": {},
   "outputs": [
    {
     "name": "stdout",
     "output_type": "stream",
     "text": [
      "xLSTM number of parameters: 265537\n"
     ]
    }
   ],
   "source": [
    "embed_dim = 128\n",
    "hidden_size = 64\n",
    "num_layers = 2\n",
    "num_blocks = 3\n",
    "dropout = 0.1\n",
    "lstm_type = \"mlstm\"\n",
    "\n",
    "model = xLSTM(vocab_size, embed_dim, hidden_size, num_layers, num_blocks, dropout, device)\n",
    "model.to(device)\n",
    "print(\"xLSTM number of parameters:\", sum(p.numel() for p in model.parameters()))"
   ]
  },
  {
   "cell_type": "code",
   "execution_count": 30,
   "metadata": {},
   "outputs": [],
   "source": [
    "max_iters, batch_size = 1000, 32\n",
    "counter, best_val_step = 0, 0\n",
    "block_size = 64\n",
    "get_batch_fn = lambda split, batch_size: get_batch(\n",
    "    data_dir, split, batch_size, device, block_size\n",
    ")"
   ]
  },
  {
   "cell_type": "code",
   "execution_count": null,
   "metadata": {},
   "outputs": [
    {
     "name": "stdout",
     "output_type": "stream",
     "text": [
      "Created checkpoint directory at ../metadata/shakespeare_char/\n"
     ]
    }
   ],
   "source": [
    "trainer = Trainer(model, lr=1e-3, checkpoint_path=\"../metadata/shakespeare_char/\")"
   ]
  },
  {
   "cell_type": "code",
   "execution_count": 32,
   "metadata": {},
   "outputs": [
    {
     "name": "stderr",
     "output_type": "stream",
     "text": [
      "Iter :999/1000 Train Loss 1.859e+00 / Eval Loss 1.863e+00: 100%|██████████| 1000/1000 [09:31<00:00,  1.75it/s]\n"
     ]
    }
   ],
   "source": [
    "partial_get_batch = lambda split, batch_size: get_batch(\n",
    "    data_dir, split, batch_size, device, block_size\n",
    ")\n",
    "trainer.train(\n",
    "    partial_get_batch, max_iters=1000, batch_size=batch_size, patience=2000, save_every=200\n",
    ")"
   ]
  },
  {
   "cell_type": "code",
   "execution_count": 33,
   "metadata": {},
   "outputs": [
    {
     "data": {
      "image/png": "[encoded data removed]",
      "text/plain": [
       "<Figure size 640x480 with 1 Axes>"
      ]
     },
     "metadata": {},
     "output_type": "display_data"
    }
   ],
   "source": [
    "plt.plot(trainer.losses, label=\"train\")\n",
    "plt.plot(trainer.val_losses, label=\"val\")\n",
    "plt.xlabel(\"iteration steps\")\n",
    "plt.ylabel(\"loss\")\n",
    "plt.legend()\n",
    "plt.savefig(\"../metadata/shakespeare_char/xlstm_loss.png\")"
   ]
  },
  {
   "cell_type": "code",
   "execution_count": 34,
   "metadata": {},
   "outputs": [
    {
     "name": "stdout",
     "output_type": "stream",
     "text": [
      "child, and you, Bit't thy maidide,\n",
      "Franhis,\n",
      "That I dare readfort, of the blive know you naty\n",
      "And\n",
      "The might, stientines out fath. We and some:\n",
      "Now in that packe finemony ome her, him from constens\n",
      "So'l I prices of conted, men:\n",
      "Thush a tchievend good deconce\n"
     ]
    }
   ],
   "source": [
    "model.eval()\n",
    "x = encode(\"the king will \\n\")\n",
    "x = x.view(1, -1).to(device)\n",
    "y = model.generate(x, 256, temperature=1.0, top_k=None)\n",
    "print(decode(y[0].tolist()))"
   ]
  }
 ],
 "metadata": {
  "kernelspec": {
   "display_name": "nanollms",
   "language": "python",
   "name": "python3"
  },
  "language_info": {
   "codemirror_mode": {
    "name": "ipython",
    "version": 3
   },
   "file_extension": ".py",
   "mimetype": "text/x-python",
   "name": "python",
   "nbconvert_exporter": "python",
   "pygments_lexer": "ipython3",
   "version": "3.10.16"
  }
 },
 "nbformat": 4,
 "nbformat_minor": 2
}
