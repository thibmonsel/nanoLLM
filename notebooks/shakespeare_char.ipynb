{
 "cells": [
  {
   "cell_type": "markdown",
   "metadata": {},
   "source": [
    "# Generating Shakespeare character by character"
   ]
  },
  {
   "cell_type": "markdown",
   "metadata": {},
   "source": [
    "This is a small example of a GPT that is trained on Shakespeare text. This notebook has major inspiration from https://github.com/karpathy/nanoGPT. It's great to get familiar and play around with GPT alwhile not necessarly having a cluster of 1000s of GPUs."
   ]
  },
  {
   "cell_type": "code",
   "execution_count": 1,
   "metadata": {},
   "outputs": [],
   "source": [
    "import os\n",
    "import pickle\n",
    "\n",
    "import matplotlib.pyplot as plt\n",
    "import torch\n",
    "from nanoLLMs.misc import get_batch\n",
    "from nanoLLMs.misc import generate_text\n",
    "from nanoLLMs.model import GPT2, Mamba, mLSTM\n",
    "from nanoLLMs.trainer import Trainer\n",
    "\n",
    "device = torch.device(\"cuda\" if torch.cuda.is_available() else \"cpu\")"
   ]
  },
  {
   "cell_type": "markdown",
   "metadata": {},
   "source": [
    "We launch the `data/shakespeare_char/prepare.py` file in order to have our data setup."
   ]
  },
  {
   "cell_type": "code",
   "execution_count": 2,
   "metadata": {},
   "outputs": [
    {
     "name": "stdout",
     "output_type": "stream",
     "text": [
      "length of dataset in characters: 1,115,394\n",
      "all the unique characters: \n",
      " !$&',-.3:;?ABCDEFGHIJKLMNOPQRSTUVWXYZabcdefghijklmnopqrstuvwxyz\n",
      "vocab size: 65\n",
      "train has 1,003,854 tokens\n",
      "val has 111,540 tokens\n"
     ]
    }
   ],
   "source": [
    "! python ../data/shakespeare_char/prepare.py "
   ]
  },
  {
   "cell_type": "markdown",
   "metadata": {},
   "source": [
    "In this dataset we have 65 unique characters that forms our vocabulary size, 1M tokens for training and 100k for validation."
   ]
  },
  {
   "cell_type": "code",
   "execution_count": 3,
   "metadata": {},
   "outputs": [
    {
     "name": "stdout",
     "output_type": "stream",
     "text": [
      "found vocab_size = 65 (inside ../data/shakespeare_char/meta.pkl)\n"
     ]
    }
   ],
   "source": [
    "data_dir = \"../data/shakespeare_char/\"\n",
    "meta_path = os.path.join(data_dir, \"meta.pkl\")\n",
    "vocab_size = None\n",
    "\n",
    "if os.path.exists(meta_path):\n",
    "    with open(meta_path, \"rb\") as f:\n",
    "        meta = pickle.load(f)\n",
    "    vocab_size = meta[\"vocab_size\"]\n",
    "    itos = meta[\"itos\"]\n",
    "    stoi = meta[\"stoi\"]\n",
    "    print(f\"found vocab_size = {vocab_size} (inside {meta_path})\")"
   ]
  },
  {
   "cell_type": "markdown",
   "metadata": {},
   "source": [
    "We then get some meta data and other convienences. For example, the GPT trained hereafter will have the task of predicting the next Shakesperian character given its context. Autoregressively, you can generate many characters that will eventually form words and sentences.\n",
    "\n",
    "The function `encode` and `decode` will help to bridge the gap between produced GPT output into readable characters and readable characters into data.\n",
    "\n",
    "We also provide an example of how a `str` is encoded for the model and how the model's output `array` of `int` are decoded to produce Shaspearian literature."
   ]
  },
  {
   "cell_type": "code",
   "execution_count": 4,
   "metadata": {},
   "outputs": [
    {
     "name": "stdout",
     "output_type": "stream",
     "text": [
      "The text 'the king will' is encoded and fed to the GPT as tensor([58, 46, 43,  1, 49, 47, 52, 45,  1, 61, 47, 50, 50])\n"
     ]
    }
   ],
   "source": [
    "encode = lambda s: torch.tensor([stoi[c] for c in s])\n",
    "decode = lambda l: \"\".join([itos[i] for i in l])\n",
    "\n",
    "shakpeare_lines = \"the king will\"\n",
    "x = encode(shakpeare_lines)\n",
    "y = decode(x.tolist())\n",
    "assert shakpeare_lines == y\n",
    "\n",
    "print(\"The text '{}' is encoded and fed to the GPT as {}\".format(shakpeare_lines, x))"
   ]
  },
  {
   "cell_type": "markdown",
   "metadata": {},
   "source": [
    "We then choose to use the same hyperparameters from https://github.com/karpathy/nanoGPT for a small example of CPU. "
   ]
  },
  {
   "cell_type": "code",
   "execution_count": 5,
   "metadata": {},
   "outputs": [
    {
     "name": "stdout",
     "output_type": "stream",
     "text": [
      "GPT number of parameters: 813889\n"
     ]
    }
   ],
   "source": [
    "block_size = 64\n",
    "n_layer, n_head, n_embd, dropout = 4, 4, 128, 0.0\n",
    "\n",
    "model = GPT2(vocab_size, block_size, n_embd, n_head, n_layer)\n",
    "model = model.to(device)\n",
    "print(\"GPT number of parameters:\", sum(p.numel() for p in model.parameters()))"
   ]
  },
  {
   "cell_type": "markdown",
   "metadata": {},
   "source": [
    "We instantiate also our `GPTTrainer` code from `nanoLLMs/trainer/gpt_trainer.py`. "
   ]
  },
  {
   "cell_type": "code",
   "execution_count": 6,
   "metadata": {},
   "outputs": [
    {
     "name": "stdout",
     "output_type": "stream",
     "text": [
      "Created checkpoint directory at ../metadata/shakespeare_char/\n"
     ]
    }
   ],
   "source": [
    "trainer = Trainer(model, lr=1e-3, checkpoint_path=\"../metadata/shakespeare_char/\")"
   ]
  },
  {
   "cell_type": "markdown",
   "metadata": {},
   "source": [
    "We call the `train` method from our `trainer` that takes as input : \n",
    "- `get_batch`: a function that fetches batches of data\n",
    "- `max_iters`: number of max iterations\n",
    "- `batch_size`: batch size \n",
    "- `patience`: an argument that essentially stops the training if the validation loss hasn't improve in `#patience` optimization steps. \n",
    "- `save_every`: that saves the model weights and other things at `save_every` multiples of iteration step. "
   ]
  },
  {
   "cell_type": "code",
   "execution_count": 7,
   "metadata": {},
   "outputs": [
    {
     "name": "stderr",
     "output_type": "stream",
     "text": [
      "Iter :199/200 Train Loss 2.040e+00 / Eval Loss 2.090e+00: 100%|██████████| 200/200 [00:32<00:00,  6.09it/s]\n"
     ]
    }
   ],
   "source": [
    "partial_get_batch = lambda split, batch_size: get_batch(\n",
    "    data_dir, split, batch_size, device, block_size\n",
    ")\n",
    "trainer.train(\n",
    "    partial_get_batch, max_iters=200, batch_size=2*128, patience=2000, save_every=200\n",
    ")"
   ]
  },
  {
   "cell_type": "markdown",
   "metadata": {},
   "source": [
    "Let's see the loss curve from this training and also generate some text !"
   ]
  },
  {
   "cell_type": "code",
   "execution_count": 8,
   "metadata": {},
   "outputs": [
    {
     "data": {
      "image/png": "[encoded data removed]",
      "text/plain": [
       "<Figure size 640x480 with 1 Axes>"
      ]
     },
     "metadata": {},
     "output_type": "display_data"
    }
   ],
   "source": [
    "plt.plot(trainer.losses, label=\"train\")\n",
    "plt.plot(trainer.val_losses, label=\"val\")\n",
    "plt.xlabel(\"iteration steps\")\n",
    "plt.ylabel(\"loss\")\n",
    "plt.legend()\n",
    "plt.savefig(\"../metadata/shakespeare_char/gpt_loss.png\")"
   ]
  },
  {
   "cell_type": "markdown",
   "metadata": {},
   "source": [
    "We also added a `temperature` and `top_k` hyperparameters to give a bit more flexibility to the text generation. "
   ]
  },
  {
   "cell_type": "code",
   "execution_count": 9,
   "metadata": {},
   "outputs": [
    {
     "name": "stdout",
     "output_type": "stream",
     "text": [
      "Generated Text:\n",
      "the king will and whord,\n",
      "I st dusple loovereds thing dots vis thear min\n",
      "Fill the wis seaplive arn ware ustrop the you\n",
      "My here she spease the be maing\n",
      "And thou at he sthe hould adsais with bede,\n",
      "The is loverst sto he--\n",
      "The thim saide shim now the spert: my cren't os lowand\n",
      "That be is the of Risen eplight mis whath he kis my\n",
      "Thous and he hisuth bee good send hand me sued\n",
      "Bot of the in she the all not me sis are.\n",
      "\n",
      "MISTIETIS:\n",
      "\n",
      "No for I be light suiving ads, hers with sher\n",
      "\n",
      "Whith us derrs nouth bet outherd I an ther walf shi\n"
     ]
    }
   ],
   "source": [
    "input = \"The \"\n",
    "tokens = encode(shakpeare_lines).view(1,-1)\n",
    "tokens = tokens.to(device)\n",
    "sample_text = generate_text(model, tokens, 2* 256, temperature=0.7)\n",
    "print(\"Generated Text:\")\n",
    "print(decode(sample_text.tolist()[0]))"
   ]
  },
  {
   "cell_type": "markdown",
   "metadata": {},
   "source": [
    "# Text generation with Mamba"
   ]
  },
  {
   "cell_type": "code",
   "execution_count": 10,
   "metadata": {},
   "outputs": [],
   "source": [
    "import os\n",
    "import pickle\n",
    "\n",
    "import matplotlib.pyplot as plt\n",
    "import torch\n",
    "from nanoLLMs.misc import get_batch\n",
    "from nanoLLMs.trainer import Trainer"
   ]
  },
  {
   "cell_type": "code",
   "execution_count": 11,
   "metadata": {},
   "outputs": [
    {
     "name": "stdout",
     "output_type": "stream",
     "text": [
      "found vocab_size = 65 (inside ../data/shakespeare_char/meta.pkl)\n"
     ]
    }
   ],
   "source": [
    "data_dir = \"../data/shakespeare_char/\"\n",
    "meta_path = os.path.join(data_dir, \"meta.pkl\")\n",
    "vocab_size = None\n",
    "\n",
    "if os.path.exists(meta_path):\n",
    "    with open(meta_path, \"rb\") as f:\n",
    "        meta = pickle.load(f)\n",
    "    vocab_size = meta[\"vocab_size\"]\n",
    "    itos = meta[\"itos\"]\n",
    "    stoi = meta[\"stoi\"]\n",
    "    print(f\"found vocab_size = {vocab_size} (inside {meta_path})\")"
   ]
  },
  {
   "cell_type": "code",
   "execution_count": 12,
   "metadata": {},
   "outputs": [
    {
     "name": "stdout",
     "output_type": "stream",
     "text": [
      "The text 'the king will' is encoded and fed to the GPT as tensor([58, 46, 43,  1, 49, 47, 52, 45,  1, 61, 47, 50, 50])\n"
     ]
    }
   ],
   "source": [
    "encode = lambda s: torch.tensor([stoi[c] for c in s])\n",
    "decode = lambda l: \"\".join([itos[i] for i in l])\n",
    "\n",
    "shakpeare_lines = \"the king will\"\n",
    "x = encode(shakpeare_lines)\n",
    "y = decode(x.tolist())\n",
    "assert shakpeare_lines == y\n",
    "\n",
    "print(\"The text '{}' is encoded and fed to the GPT as {}\".format(shakpeare_lines, x))"
   ]
  },
  {
   "cell_type": "code",
   "execution_count": 13,
   "metadata": {},
   "outputs": [
    {
     "name": "stdout",
     "output_type": "stream",
     "text": [
      "Failed to import mamba_ssm. Falling back to mamba.py.\n",
      "Failed to import mamba_ssm. Falling back to mamba.py.\n",
      "Failed to import mamba_ssm. Falling back to mamba.py.\n",
      "Failed to import mamba_ssm. Falling back to mamba.py.\n",
      "Failed to import mamba_ssm. Falling back to mamba.py.\n",
      "Failed to import mamba_ssm. Falling back to mamba.py.\n"
     ]
    }
   ],
   "source": [
    "device = torch.device(\"cuda\" if torch.cuda.is_available() else \"cpu\")\n",
    "d_model, expand, kernel_size, conv_bias, dt_rank, d_state, bias, dt_max, dt_min, dt_init_floor, dt_scale, n_layers, dt_init, use_cuda = 32, 2, 4, False, \"auto\", 16,  True, 0.1, 0.001, 1e-4, 1.0, 6, \"random\", True\n",
    "model = Mamba(d_model, expand, kernel_size, conv_bias, dt_rank, d_state, bias, dt_max, dt_min, dt_init_floor, dt_scale, dt_init, use_cuda, n_layers, vocab_size=vocab_size, block_size=256)\n",
    "model = model.to(device)"
   ]
  },
  {
   "cell_type": "code",
   "execution_count": 14,
   "metadata": {},
   "outputs": [],
   "source": [
    "max_iters, batch_size = 1000, 32\n",
    "block_size = 64\n",
    "get_batch_fn = lambda split, batch_size: get_batch(\n",
    "    data_dir, split, batch_size, device, block_size\n",
    ")"
   ]
  },
  {
   "cell_type": "code",
   "execution_count": 15,
   "metadata": {},
   "outputs": [
    {
     "name": "stdout",
     "output_type": "stream",
     "text": [
      "Created checkpoint directory at ../metadata/shakespeare_char/\n"
     ]
    }
   ],
   "source": [
    "trainer = Trainer(model, lr=1e-3, checkpoint_path=\"../metadata/shakespeare_char/\")"
   ]
  },
  {
   "cell_type": "code",
   "execution_count": 16,
   "metadata": {},
   "outputs": [
    {
     "name": "stderr",
     "output_type": "stream",
     "text": [
      "Iter :499/500 Train Loss 1.706e+00 / Eval Loss 1.863e+00: 100%|██████████| 500/500 [06:20<00:00,  1.31it/s]\n"
     ]
    }
   ],
   "source": [
    "partial_get_batch = lambda split, batch_size: get_batch(\n",
    "    data_dir, split, batch_size, device, block_size\n",
    ")\n",
    "trainer.train(\n",
    "    partial_get_batch, max_iters=500, batch_size=2*128, patience=2000, save_every=200\n",
    ")"
   ]
  },
  {
   "cell_type": "code",
   "execution_count": 17,
   "metadata": {},
   "outputs": [
    {
     "data": {
      "image/png": "[encoded data removed]",
      "text/plain": [
       "<Figure size 640x480 with 1 Axes>"
      ]
     },
     "metadata": {},
     "output_type": "display_data"
    }
   ],
   "source": [
    "plt.plot(trainer.losses, label=\"train\")\n",
    "plt.plot(trainer.val_losses, label=\"val\")\n",
    "plt.xlabel(\"iteration steps\")\n",
    "plt.ylabel(\"loss\")\n",
    "plt.legend()\n",
    "plt.savefig(\"../metadata/shakespeare_char/mamba_loss.png\")"
   ]
  },
  {
   "cell_type": "code",
   "execution_count": 18,
   "metadata": {},
   "outputs": [
    {
     "name": "stdout",
     "output_type": "stream",
     "text": [
      "Generated Text:\n",
      "the king will the lady proven.\n",
      "\n",
      "GRCORUS:\n",
      "O thou shall pale to hand is my have upon shall me you are at the seelenges, powere he do dight your the commons\n",
      "And but way strent,\n",
      "And for suppeolet,\n",
      "But or flest, thee daughter, thy heart to thy not\n",
      "To bid retend\n",
      "Where more all tome the ra't thee!\n",
      "\n",
      "Second; the kingdeat in the sudes to may the world, in for sirti forth more\n",
      "Come me hanswel diuk;\n",
      "Your come and not thou say\n",
      "And life\n",
      "Here you the apmarash woether in stand heart\n",
      "'tanion, and stram.\n",
      "\n",
      "ERCAT:\n",
      "O the sir, thou thou hand Toow have me\n",
      "us too your resingal the world he wenders thy sife's all to sir.\n",
      "\n",
      "ROMEO:\n",
      "What day on it be could it my cames and their brother to that what me world, and glory\n",
      "And endea\n",
      "Why forth come to in shipe I see\n",
      "Servant our never till holesant been though of the desolconsesteds.\n",
      "\n",
      "CICLA:\n",
      "He the so our alice to stafe; it ender, from is can will come.\n",
      "\n",
      "SICIkw out to the purse father good by so,\n",
      "What me most thee cleased, it this come, and him thee all thou art hath sently aliff;\n",
      "And them we I than you the can to have he seen more will the cheek,\n",
      "As for and holy foul, that I bean you good despair he pitesty:\n",
      "Nowin for in our from of the shaltes notwon with this died thee foul as, and broughts of him sick to the sun the jursed if heas\n"
     ]
    }
   ],
   "source": [
    "input = \"The \"\n",
    "tokens = encode(shakpeare_lines).view(1,-1)\n",
    "tokens = tokens.to(device)\n",
    "sample_text = generate_text(model, tokens,1256, temperature=0.7)\n",
    "print(\"Generated Text:\")\n",
    "print(decode(sample_text.tolist()[0]))"
   ]
  },
  {
   "cell_type": "markdown",
   "metadata": {},
   "source": [
    "# xLSTM "
   ]
  },
  {
   "cell_type": "code",
   "execution_count": 19,
   "metadata": {},
   "outputs": [],
   "source": [
    "from nanoLLMs.model.xlstm import xLSTM"
   ]
  },
  {
   "cell_type": "code",
   "execution_count": 20,
   "metadata": {},
   "outputs": [
    {
     "name": "stdout",
     "output_type": "stream",
     "text": [
      "xLSTM number of parameters: 1895617\n"
     ]
    }
   ],
   "source": [
    "embed_dim = 128\n",
    "hidden_size = 256\n",
    "num_layers = 2\n",
    "num_blocks = 3\n",
    "dropout = 0.1\n",
    "max_seq_len = 256\n",
    "\n",
    "model = xLSTM(vocab_size, embed_dim, max_seq_len, hidden_size, num_layers, num_blocks, dropout)\n",
    "model.to(device)\n",
    "print(\"xLSTM number of parameters:\", sum(p.numel() for p in model.parameters()))"
   ]
  },
  {
   "cell_type": "code",
   "execution_count": 21,
   "metadata": {},
   "outputs": [],
   "source": [
    "max_iters, batch_size = 1000, 32\n",
    "block_size = 64\n",
    "get_batch_fn = lambda split, batch_size: get_batch(\n",
    "    data_dir, split, batch_size, device, block_size\n",
    ")"
   ]
  },
  {
   "cell_type": "code",
   "execution_count": 22,
   "metadata": {},
   "outputs": [
    {
     "name": "stdout",
     "output_type": "stream",
     "text": [
      "Created checkpoint directory at ../metadata/shakespeare_char/\n"
     ]
    }
   ],
   "source": [
    "trainer = Trainer(model, lr=1e-3, checkpoint_path=\"../metadata/shakespeare_char/\")"
   ]
  },
  {
   "cell_type": "code",
   "execution_count": 23,
   "metadata": {},
   "outputs": [
    {
     "name": "stderr",
     "output_type": "stream",
     "text": [
      "Iter :2499/2500 Train Loss 1.423e+00 / Eval Loss 1.530e+00: 100%|██████████| 2500/2500 [34:24<00:00,  1.21it/s]\n"
     ]
    }
   ],
   "source": [
    "partial_get_batch = lambda split, batch_size: get_batch(\n",
    "    data_dir, split, batch_size, device, block_size\n",
    ")\n",
    "trainer.train(\n",
    "    partial_get_batch, max_iters=1000 , batch_size=batch_size, patience=2000, save_every=200\n",
    ")"
   ]
  },
  {
   "cell_type": "code",
   "execution_count": 24,
   "metadata": {},
   "outputs": [
    {
     "data": {
      "image/png": "[encoded data removed]",
      "text/plain": [
       "<Figure size 640x480 with 1 Axes>"
      ]
     },
     "metadata": {},
     "output_type": "display_data"
    }
   ],
   "source": [
    "plt.plot(trainer.losses, label=\"train\")\n",
    "plt.plot(trainer.val_losses, label=\"val\")\n",
    "plt.xlabel(\"iteration steps\")\n",
    "plt.ylabel(\"loss\")\n",
    "plt.legend()\n",
    "plt.savefig(\"../metadata/shakespeare_char/xlstm_loss.png\")"
   ]
  },
  {
   "cell_type": "code",
   "execution_count": 27,
   "metadata": {},
   "outputs": [
    {
     "name": "stdout",
     "output_type": "stream",
     "text": [
      "Generated Text:\n",
      "the king will bury on the wholesome down,\n",
      "Carriol's doth do the matching as this way\n",
      "That with death, how I hhave been love your form.\n",
      "\n",
      "AUFIDIUS:\n",
      "God happy bear me and the child,\n",
      "And the save a town made me with the way;\n",
      "And, he shall be his words are twenty the strick\n"
     ]
    }
   ],
   "source": [
    "input = \"The \"\n",
    "tokens = encode(shakpeare_lines).view(1,-1)\n",
    "tokens = tokens.to(device)\n",
    "sample_text = generate_text(model, tokens, 256, temperature=0.7)\n",
    "print(\"Generated Text:\")\n",
    "print(decode(sample_text.tolist()[0]))"
   ]
  }
 ],
 "metadata": {
  "kernelspec": {
   "display_name": "nanollms",
   "language": "python",
   "name": "python3"
  },
  "language_info": {
   "codemirror_mode": {
    "name": "ipython",
    "version": 3
   },
   "file_extension": ".py",
   "mimetype": "text/x-python",
   "name": "python",
   "nbconvert_exporter": "python",
   "pygments_lexer": "ipython3",
   "version": "3.10.16"
  }
 },
 "nbformat": 4,
 "nbformat_minor": 2
}
