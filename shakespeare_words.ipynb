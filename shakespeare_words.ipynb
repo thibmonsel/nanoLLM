{
 "cells": [
  {
   "cell_type": "markdown",
   "metadata": {},
   "source": [
    "# Generating Shakespeare word by word"
   ]
  },
  {
   "cell_type": "markdown",
   "metadata": {},
   "source": [
    "This is a small example of a GPT that is trained on Shakespeare text. This notebook has major inspiration from https://github.com/karpathy/nanoGPT. It's great to get familiar and play around with GPT alwhile not necessarly having a cluster of 1000s of GPUs.\n",
    "\n",
    "This notebook is conceptually the same as `shakespeare_char.ipynb` but instead of predicting a character, the model will predict a word. We don't use any fancy tokenizer here but use classic regex to split the Shakspeare text into words (you can see that `data/shakespeare_word/prepare.py` changes slightly from `data/shakespeare_char/prepare.py`). The regex could be largely improved since words are case sensitive, etc..."
   ]
  },
  {
   "cell_type": "code",
   "execution_count": null,
   "metadata": {},
   "outputs": [],
   "source": [
    "import os \n",
    "import re\n",
    "import torch\n",
    "import pickle\n",
    "import matplotlib.pyplot as plt\n",
    "\n",
    "from misc import get_batch\n",
    "from model.gpt2 import GPT2\n",
    "from trainer.gpt_trainer import GPTTrainer\n",
    "\n",
    "device = torch.device(\"cuda\" if torch.cuda.is_available() else \"cpu\")"
   ]
  },
  {
   "cell_type": "markdown",
   "metadata": {},
   "source": [
    "We launch the `data/shakespeare_word/prepare.py` file in order to have our data setup."
   ]
  },
  {
   "cell_type": "code",
   "execution_count": 2,
   "metadata": {},
   "outputs": [
    {
     "name": "stdout",
     "output_type": "stream",
     "text": [
      "length of dataset in characters: 1,115,394\n",
      "the first 100 unique word tokens are: 3|A|ABHORSON|ABRAHAM|ADRIAN|AEacides|AEdile|AEdiles|AEneas|AEsop|ALL|ALONSO|ANGELO|ANNE|ANOTHER|ANTIGONUS|ANTONIO|ARCHBISHOP|ARCHIDAMUS|ARIEL|AUFIDIUS|AUMERLE|AUTOLYCUS|Abase|Abate|Abated|Abbot|Abel|Abhorred|Abhorson|Abides|Able|About|Above|Abraham|Absolute|Accept|Accomplish|According|Accords|Account|Accountant|Accursed|Accuse|Achieve|Acquaint|Action|Adam|Add|Added|Adding|Address|Adieu|Adjudged|Admit|Adonis|Adoptedly|Adopts|Adrian|Adriatic|Advance|Advantaging|Adversity|Advertising|Advocate|Affection|Affliction|Affrighted|Affrights|Affront|Afore|Afresh|Afric|African|After|Again|Against|Agamemnon|Age|Aged|Agenor|Agreed|Agrippa|Ah|Aim|Aiming|Airy|Ajax|Al|Alack|Alas|Alban|Albeit|Albion|Alcides|Alexander|Alike|Alive|All|Alla\n",
      "vocab size: 13,321\n",
      "train has 187,677 tokens\n",
      "val has 20,853 tokens\n"
     ]
    }
   ],
   "source": [
    "! python data/shakespeare_word/prepare.py "
   ]
  },
  {
   "cell_type": "markdown",
   "metadata": {},
   "source": [
    "In this dataset we have 13,331 unique words (tokens) that form our vocabulary size, 236k tokens for training and 26k for validation."
   ]
  },
  {
   "cell_type": "code",
   "execution_count": 3,
   "metadata": {},
   "outputs": [
    {
     "name": "stdout",
     "output_type": "stream",
     "text": [
      "found vocab_size = 13321 (inside data/shakespeare_word/meta.pkl)\n"
     ]
    }
   ],
   "source": [
    "data_dir = \"data/shakespeare_word/\"\n",
    "meta_path = os.path.join(data_dir, 'meta.pkl')\n",
    "vocab_size = None\n",
    "\n",
    "if os.path.exists(meta_path):\n",
    "    with open(meta_path, 'rb') as f:\n",
    "        meta = pickle.load(f)\n",
    "    vocab_size = meta['vocab_size']\n",
    "    itow = meta['itow']\n",
    "    stow = meta['stow']\n",
    "    print(f\"found vocab_size = {vocab_size} (inside {meta_path})\")"
   ]
  },
  {
   "cell_type": "markdown",
   "metadata": {},
   "source": [
    "We then get some meta data and other convienences. For example, the GPT trained hereafter will have the task of predicting the next Shakesperian character given its context. Autoregressively, you can generate many characters that will eventually form words and sentences.\n",
    "\n",
    "The function `encode` and `decode` will help to convert the produced GPT output into readable characters. We also provide an example of how a `str` is encoded for the model and how the model's output `array` of `int` are decoded to produce Shaspearian litterature."
   ]
  },
  {
   "cell_type": "code",
   "execution_count": 4,
   "metadata": {},
   "outputs": [
    {
     "name": "stdout",
     "output_type": "stream",
     "text": [
      "The text 'the king will' is encoded and fed to the GPT as tensor([11963,  7805, 13098])\n"
     ]
    }
   ],
   "source": [
    "def encode(s):\n",
    "    pattern = r'\\b\\w+\\b|[^\\w\\s]'\n",
    "    # Find all words\n",
    "    data = re.findall(pattern, s)\n",
    "    return torch.tensor([stow[c] for c in data])\n",
    "\n",
    "decode = lambda l: ' '.join([itow[i] for i in l])\n",
    "\n",
    "shakpeare_lines = \"the king will\"\n",
    "x = encode(shakpeare_lines)\n",
    "print(\"The text '{}' is encoded and fed to the GPT as {}\".format(shakpeare_lines, x))\n",
    "y = decode(x.tolist())\n",
    "assert shakpeare_lines == y"
   ]
  },
  {
   "cell_type": "markdown",
   "metadata": {},
   "source": [
    "We choose to use the same hyperparameters from https://github.com/karpathy/nanoGPT for a small example of CPU. "
   ]
  },
  {
   "cell_type": "code",
   "execution_count": 5,
   "metadata": {},
   "outputs": [
    {
     "name": "stdout",
     "output_type": "stream",
     "text": [
      "GPT number of parameters: 4220681\n"
     ]
    }
   ],
   "source": [
    "block_size = 64\n",
    "n_layer, n_head, n_embd, dropout = 4, 4, 128, 0.0\n",
    "\n",
    "model = GPT2(vocab_size, block_size, n_embd, n_head, n_layer)\n",
    "model = model.to(device)\n",
    "print(\"GPT number of parameters:\", sum(p.numel() for p in model.parameters()))"
   ]
  },
  {
   "cell_type": "markdown",
   "metadata": {},
   "source": [
    "We instantiate also our `GPTTrainer` code in `train.py`. "
   ]
  },
  {
   "cell_type": "code",
   "execution_count": 6,
   "metadata": {},
   "outputs": [],
   "source": [
    "trainer = GPTTrainer(model, lr=5e-4, checkpoint_path=\"metadata/shakespeare_word/\")"
   ]
  },
  {
   "cell_type": "markdown",
   "metadata": {},
   "source": [
    "We call the `train` method from our `trainer` that takes as input : \n",
    "- `get_batch`: a function that fetches batches of data\n",
    "- `max_iters`: number of max iterations\n",
    "- `batch_size`: batch size \n",
    "- `patience`: an argument that essentially spots the training if the validation loss hasn't improve in `#patience` optimization steps. \n",
    "- `save_every`: that saves the model weights and other things at `save_every` multiples of iteration step. "
   ]
  },
  {
   "cell_type": "code",
   "execution_count": 7,
   "metadata": {},
   "outputs": [
    {
     "name": "stderr",
     "output_type": "stream",
     "text": [
      "Iter :1999/2000 Train Loss 3.610e+00 / Eval Loss 8.908e+00: 100%|██████████| 2000/2000 [13:11<00:00,  2.53it/s]\n"
     ]
    }
   ],
   "source": [
    "partial_get_batch = lambda split, batch_size: get_batch(data_dir, split, batch_size, device, block_size)\n",
    "trainer.train(partial_get_batch, max_iters=2000, batch_size=64, patience=2000, save_every=30)"
   ]
  },
  {
   "cell_type": "markdown",
   "metadata": {},
   "source": [
    "Lets see the loss curve from this training and also generate some text ! We also added a `temperature` and `top_k` hyperparameters to give a bit more flexibility to the generation. We see here that the GPT model overfits fast, something that can be amended by using more data and a larger model (our model here is 4M, GPT2 was 124M)"
   ]
  },
  {
   "cell_type": "code",
   "execution_count": 8,
   "metadata": {},
   "outputs": [
    {
     "data": {
      "text/plain": [
       "<matplotlib.legend.Legend at 0x7345a99ec550>"
      ]
     },
     "execution_count": 8,
     "metadata": {},
     "output_type": "execute_result"
    },
    {
     "data": {
      "image/png": "[encoded data removed]",
      "text/plain": [
       "<Figure size 640x480 with 1 Axes>"
      ]
     },
     "metadata": {},
     "output_type": "display_data"
    }
   ],
   "source": [
    "plt.plot(trainer.losses, label='train')\n",
    "plt.plot(trainer.val_losses, label='val')\n",
    "plt.xlabel('iteration steps')\n",
    "plt.ylabel('loss')\n",
    "plt.legend()"
   ]
  },
  {
   "cell_type": "markdown",
   "metadata": {},
   "source": [
    "What we see here is that the Tokenizer doesn't keep the structure of Shakespeare, something that is expected."
   ]
  },
  {
   "cell_type": "code",
   "execution_count": 15,
   "metadata": {},
   "outputs": [
    {
     "name": "stderr",
     "output_type": "stream",
     "text": [
      "100%|██████████| 256/256 [00:00<00:00, 340.48it/s]"
     ]
    },
    {
     "name": "stdout",
     "output_type": "stream",
     "text": [
      "QUEEN MARGARET How doth he hated Nurse Now he did\n",
      "not your grace two eager all came I bethink thee\n",
      "SLY Madam I will keep with words revive FRIAR LAURENCE\n",
      "Escalus FRIAR LAURENCE Unhappy a boy none a word in\n",
      "Verona Go with a lamb LUCIO No more wit they\n",
      "not that is a woman More that Canst after what\n",
      "i the friar and men were as certain true As\n",
      "tis art as I never guilty books re youngest thing\n",
      "would I would bandy both my body have found me\n",
      "BOLINGBROKE Good friar He would allow DUKE OF AUMERLE I\n",
      "would this faster time would prove so I cannot may\n",
      "burn What says BISHOP OF ELY EXTON When dost bait\n",
      "it so bold s no impeach God must confess DUCHESS\n",
      "OF YORK O Lord Thou shalt thou know who dares\n",
      "liege why I am too descent Farewell why dost thou\n",
      "not dwell upon us in plain we thou happy I\n",
      "am a sigh In the forfeit of our person DUKE\n",
      "OF YORK Hadst thou livest The traitor that I deserved\n",
      "cousin Hereford thus prove and word the moveables d in\n",
      "with the king In common executioner Cut them with the\n",
      "triumph England s wounded This His captain and never summer\n",
      "men must be no cause To hear garment HERMIONE Some\n",
      "say I did remember a month leave to nothing LEONTES\n",
      "We have done good friends as she did mistake Rather\n",
      "than you have done A woman Do not deny some\n",
      "purpose More matter in this business of nature\n"
     ]
    },
    {
     "name": "stderr",
     "output_type": "stream",
     "text": [
      "\n"
     ]
    }
   ],
   "source": [
    "model.eval()\n",
    "x = encode(\"QUEEN MARGARET \\n\")\n",
    "x = x.view(1, -1).to(device)\n",
    "y = model.generate(x, 256, temperature=1.0, top_k=None)\n",
    "decoded_y = decode(y[0].tolist())\n",
    "split_decode_y = decoded_y.split(\" \")\n",
    "for i in range(0, len(split_decode_y), 10):\n",
    "    print(\" \".join(split_decode_y[i:i+10]))\n"
   ]
  },
  {
   "cell_type": "markdown",
   "metadata": {},
   "source": [
    "# Using multiple GPUs to scale your GPT model"
   ]
  },
  {
   "cell_type": "markdown",
   "metadata": {},
   "source": [
    "We will used Pytorch's DistributedDataParallel (https://pytorch.org/tutorials/intermediate/ddp_tutorial.html) to train, our GPT model with several GPUs. \n",
    "\n",
    "Please note that the model itself will be larger but not that big that using FSDP (https://pytorch.org/tutorials/intermediate/FSDP_tutorial.html) would be overkill here !"
   ]
  },
  {
   "cell_type": "code",
   "execution_count": null,
   "metadata": {},
   "outputs": [],
   "source": []
  }
 ],
 "metadata": {
  "kernelspec": {
   "display_name": "nanoGPT",
   "language": "python",
   "name": "python3"
  },
  "language_info": {
   "codemirror_mode": {
    "name": "ipython",
    "version": 3
   },
   "file_extension": ".py",
   "mimetype": "text/x-python",
   "name": "python",
   "nbconvert_exporter": "python",
   "pygments_lexer": "ipython3",
   "version": "3.11.10"
  }
 },
 "nbformat": 4,
 "nbformat_minor": 2
}
