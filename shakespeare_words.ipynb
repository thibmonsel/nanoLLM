{
 "cells": [
  {
   "cell_type": "markdown",
   "metadata": {},
   "source": [
    "# Generating Shakespeare word by word"
   ]
  },
  {
   "cell_type": "markdown",
   "metadata": {},
   "source": [
    "This is a small example of a GPT that is trained on Shakespeare text. This notebook has major inspiration from https://github.com/karpathy/nanoGPT. It's great to get familiar and play around with GPT alwhile not necessarly having a cluster of 1000s of GPUs.\n",
    "\n",
    "This notebook is conceptually the same as `shakespeare_char.ipynb` but instead of predicting a character, the model will predict a word. We don't use any fancy tokenizer here but use classic regex to split the Shakspeare text into words (you can see that `data/shakespeare_word/prepare.py` changes slightly from `data/shakespeare_char/prepare.py`). The regex could be largely improved since words are case sensitive, etc..."
   ]
  },
  {
   "cell_type": "code",
   "execution_count": 1,
   "metadata": {},
   "outputs": [],
   "source": [
    "import os \n",
    "import re\n",
    "import torch\n",
    "import pickle\n",
    "import matplotlib.pyplot as plt\n",
    "\n",
    "from misc import get_batch\n",
    "from model.gpt2 import GPT2\n",
    "from trainer.gpt_trainer import GPTTrainer\n",
    "\n",
    "device = torch.device(\"cuda\" if torch.cuda.is_available() else \"cpu\")"
   ]
  },
  {
   "cell_type": "markdown",
   "metadata": {},
   "source": [
    "We launch the `data/shakespeare_word/prepare.py` file in order to have our data setup."
   ]
  },
  {
   "cell_type": "code",
   "execution_count": 2,
   "metadata": {},
   "outputs": [
    {
     "name": "stdout",
     "output_type": "stream",
     "text": [
      "the first 100 unique word tokens are: 3|A|ABHORSON|ABRAHAM|ADRIAN|AEacides|AEdile|AEdiles|AEneas|AEsop|ALL|ALONSO|ANGELO|ANNE|ANOTHER|ANTIGONUS|ANTONIO|ARCHBISHOP|ARCHIDAMUS|ARIEL|AUFIDIUS|AUMERLE|AUTOLYCUS|Abase|Abate|Abated|Abbot|Abel|Abhorred|Abhorson|Abides|Able|About|Above|Abraham|Absolute|Accept|Accomplish|According|Accords|Account|Accountant|Accursed|Accuse|Achieve|Acquaint|Action|Adam|Add|Added|Adding|Address|Adieu|Adjudged|Admit|Adonis|Adoptedly|Adopts|Adrian|Adriatic|Advance|Advantaging|Adversity|Advertising|Advocate|Affection|Affliction|Affrighted|Affrights|Affront|Afore|Afresh|Afric|African|After|Again|Against|Agamemnon|Age|Aged|Agenor|Agreed|Agrippa|Ah|Aim|Aiming|Airy|Ajax|Al|Alack|Alas|Alban|Albeit|Albion|Alcides|Alexander|Alike|Alive|All|Alla\n",
      "vocab size: 13,321\n",
      "train has 187,677 tokens\n",
      "val has 20,853 tokens\n"
     ]
    }
   ],
   "source": [
    "! python data/shakespeare_word/prepare.py "
   ]
  },
  {
   "cell_type": "markdown",
   "metadata": {},
   "source": [
    "In this dataset we have 13,331 unique words (tokens) that form our vocabulary size, 236k tokens for training and 26k for validation."
   ]
  },
  {
   "cell_type": "code",
   "execution_count": 3,
   "metadata": {},
   "outputs": [
    {
     "name": "stdout",
     "output_type": "stream",
     "text": [
      "found vocab_size = 13321 (inside data/shakespeare_word/meta.pkl)\n"
     ]
    }
   ],
   "source": [
    "data_dir = \"data/shakespeare_word/\"\n",
    "meta_path = os.path.join(data_dir, 'meta.pkl')\n",
    "vocab_size = None\n",
    "\n",
    "if os.path.exists(meta_path):\n",
    "    with open(meta_path, 'rb') as f:\n",
    "        meta = pickle.load(f)\n",
    "    vocab_size = meta['vocab_size']\n",
    "    itow = meta['itow']\n",
    "    stow = meta['stow']\n",
    "    print(f\"found vocab_size = {vocab_size} (inside {meta_path})\")"
   ]
  },
  {
   "cell_type": "markdown",
   "metadata": {},
   "source": [
    "We then get some meta data and other convienences. For example, the GPT trained hereafter will have the task of predicting the next Shakesperian character given its context. Autoregressively, you can generate many characters that will eventually form sentences and paragraphs.\n",
    "\n",
    "The function `encode` and `decode` will help to convert the produced GPT output into readable characters. We also provide an example of how a `str` is encoded for the model and how the model's output `array` of `int` are decoded to produce Shaspearian litterature."
   ]
  },
  {
   "cell_type": "code",
   "execution_count": 4,
   "metadata": {},
   "outputs": [
    {
     "name": "stdout",
     "output_type": "stream",
     "text": [
      "The text 'the king will' is encoded and fed to the GPT as tensor([11963,  7805, 13098])\n"
     ]
    }
   ],
   "source": [
    "def encode(s):\n",
    "    pattern = r'\\b\\w+\\b|[^\\w\\s]'\n",
    "    # Find all words\n",
    "    data = re.findall(pattern, s)\n",
    "    return torch.tensor([stow[c] for c in data])\n",
    "\n",
    "decode = lambda l: ' '.join([itow[i] for i in l])\n",
    "\n",
    "shakspeare_lines = \"the king will\"\n",
    "x = encode(shakspeare_lines)\n",
    "print(\"The text '{}' is encoded and fed to the GPT as {}\".format(shakspeare_lines, x))\n",
    "y = decode(x.tolist())\n",
    "assert shakspeare_lines == y"
   ]
  },
  {
   "cell_type": "markdown",
   "metadata": {},
   "source": [
    "We choose to use the same hyperparameters from https://github.com/karpathy/nanoGPT for a small example of CPU. "
   ]
  },
  {
   "cell_type": "code",
   "execution_count": 5,
   "metadata": {},
   "outputs": [
    {
     "name": "stdout",
     "output_type": "stream",
     "text": [
      "GPT number of parameters: 4220681\n"
     ]
    }
   ],
   "source": [
    "block_size = 64\n",
    "n_layer, n_head, n_embd, dropout = 4, 4, 128, 0.0\n",
    "\n",
    "model = GPT2(vocab_size, block_size, n_embd, n_head, n_layer)\n",
    "model = model.to(device)\n",
    "print(\"GPT number of parameters:\", sum(p.numel() for p in model.parameters()))"
   ]
  },
  {
   "cell_type": "markdown",
   "metadata": {},
   "source": [
    "We instantiate also our `GPTTrainer` code from `trainer/gpt_trainer.py`. "
   ]
  },
  {
   "cell_type": "code",
   "execution_count": 6,
   "metadata": {},
   "outputs": [
    {
     "name": "stdout",
     "output_type": "stream",
     "text": [
      "True\n",
      "Created checkpoint directory at metadata/shakespeare_word/\n"
     ]
    }
   ],
   "source": [
    "trainer = GPTTrainer(model, lr=5e-4, checkpoint_path=\"metadata/shakespeare_word/\")"
   ]
  },
  {
   "cell_type": "markdown",
   "metadata": {},
   "source": [
    "We call the `train` method from our `trainer` that takes as input : \n",
    "- `get_batch`: a function that fetches batches of data\n",
    "- `max_iters`: number of max iterations\n",
    "- `batch_size`: batch size \n",
    "- `patience`: an argument that essentially stops the training if the validation loss hasn't improve in `#patience` optimization steps. \n",
    "- `save_every`: that saves the model weights and other things at `save_every` multiples of iteration step. "
   ]
  },
  {
   "cell_type": "code",
   "execution_count": 7,
   "metadata": {},
   "outputs": [
    {
     "name": "stderr",
     "output_type": "stream",
     "text": [
      "Iter :1999/2000 Train Loss 3.598e+00 / Eval Loss 8.992e+00: 100%|██████████| 2000/2000 [13:15<00:00,  2.51it/s]\n"
     ]
    }
   ],
   "source": [
    "partial_get_batch = lambda split, batch_size: get_batch(data_dir, split, batch_size, device, block_size)\n",
    "trainer.train(partial_get_batch, max_iters=2000, batch_size=64, patience=2000, save_every=30)"
   ]
  },
  {
   "cell_type": "markdown",
   "metadata": {},
   "source": [
    "Lets see the loss curve from this training and also generate some text ! We also added a `temperature` and `top_k` hyperparameters to give a bit more flexibility to the generation. We see here that the GPT model overfits fast, something that can be amended by using more data and a larger model (our model here is 4M, GPT2 was 124M)"
   ]
  },
  {
   "cell_type": "code",
   "execution_count": 8,
   "metadata": {},
   "outputs": [
    {
     "data": {
      "text/plain": [
       "<matplotlib.legend.Legend at 0x7d465ecb6e90>"
      ]
     },
     "execution_count": 8,
     "metadata": {},
     "output_type": "execute_result"
    },
    {
     "data": {
      "image/png": "[encoded data removed]",
      "text/plain": [
       "<Figure size 640x480 with 1 Axes>"
      ]
     },
     "metadata": {},
     "output_type": "display_data"
    }
   ],
   "source": [
    "plt.plot(trainer.losses, label='train')\n",
    "plt.plot(trainer.val_losses, label='val')\n",
    "plt.xlabel('iteration steps')\n",
    "plt.ylabel('loss')\n",
    "plt.legend()"
   ]
  },
  {
   "cell_type": "markdown",
   "metadata": {},
   "source": [
    "What we see here is that the Tokenizer doesn't keep the structure of Shakespeare, something that is expected."
   ]
  },
  {
   "cell_type": "code",
   "execution_count": 9,
   "metadata": {},
   "outputs": [
    {
     "name": "stderr",
     "output_type": "stream",
     "text": [
      "100%|██████████| 256/256 [00:00<00:00, 311.38it/s]\n"
     ]
    },
    {
     "name": "stdout",
     "output_type": "stream",
     "text": [
      "QUEEN MARGARET Come go by me our princely souls for\n",
      "you all the strength of promise you Thus are to\n",
      "us BLUNT So let their queen I denied with RIVERS\n",
      "Have they put your honour by your hate Let me\n",
      "twine This is my very services marry join and ye\n",
      "re Be taken sanctuary in that instruct her present hearts\n",
      "As much is POLIXENES You are transported and ours HORTENSIO\n",
      "Her lover had to the gentleman for him any man\n",
      "Why how found t and quietness I thank you must\n",
      "thus well POLIXENES Those offer service tis yours That we\n",
      "have you deserved it on for that more man prithee\n",
      "have met d with child Than vow He says My\n",
      "lord pluck d for a brave o the wounds their\n",
      "tides you break her bear I am ended with Volscians\n",
      "talk d Your purse to weed and are dried out\n",
      "to choose The injury The wanton Edward s fruit KING\n",
      "RICHARD III Because our friends at least we will hear\n",
      "it do cry the present thee do Keeper Give me\n",
      "a gross at once The guilt of our seemers was\n",
      "done usurp deposed KING RICHARD II O general Fear not\n",
      "mind for me To tear the huntsmen Blush thou art\n",
      "And thou must know st the sudden nurse that my\n",
      "mother To have done upon my gracious bed both grow\n",
      "and thy rage proud bones thy king s point And\n",
      "having the steerage want thou think st a loss of\n",
      "night Where pretty fool Presuming Thy brother is\n"
     ]
    }
   ],
   "source": [
    "model.eval()\n",
    "x = encode(\"QUEEN MARGARET \\n\")\n",
    "x = x.view(1, -1).to(device)\n",
    "y = model.generate(x, 256, temperature=1.0, top_k=None)\n",
    "decoded_y = decode(y[0].tolist())\n",
    "split_decode_y = decoded_y.split(\" \")\n",
    "for i in range(0, len(split_decode_y), 10):\n",
    "    print(\" \".join(split_decode_y[i:i+10]))\n"
   ]
  },
  {
   "cell_type": "markdown",
   "metadata": {},
   "source": [
    "# Using a better Tokenizer"
   ]
  },
  {
   "cell_type": "markdown",
   "metadata": {},
   "source": [
    "The result of the training above aren't great, this is in part due to the tokenizer. \n",
    "\n",
    "OpenAI's has a GTP2 tokenizer package that does all the heavylifting for you :`tiktoken` (https://github.com/openai/tiktoken). Let's redo the whole training with this new tokenizer ! "
   ]
  },
  {
   "cell_type": "code",
   "execution_count": 10,
   "metadata": {},
   "outputs": [
    {
     "name": "stdout",
     "output_type": "stream",
     "text": [
      "Requirement already satisfied: tiktoken in /home/monsel/miniconda3/envs/nanoGPT/lib/python3.11/site-packages (0.8.0)\n",
      "Requirement already satisfied: regex>=2022.1.18 in /home/monsel/miniconda3/envs/nanoGPT/lib/python3.11/site-packages (from tiktoken) (2024.11.6)\n",
      "Requirement already satisfied: requests>=2.26.0 in /home/monsel/miniconda3/envs/nanoGPT/lib/python3.11/site-packages (from tiktoken) (2.32.3)\n",
      "Requirement already satisfied: charset-normalizer<4,>=2 in /home/monsel/miniconda3/envs/nanoGPT/lib/python3.11/site-packages (from requests>=2.26.0->tiktoken) (3.4.0)\n",
      "Requirement already satisfied: idna<4,>=2.5 in /home/monsel/miniconda3/envs/nanoGPT/lib/python3.11/site-packages (from requests>=2.26.0->tiktoken) (3.10)\n",
      "Requirement already satisfied: urllib3<3,>=1.21.1 in /home/monsel/miniconda3/envs/nanoGPT/lib/python3.11/site-packages (from requests>=2.26.0->tiktoken) (2.2.3)\n",
      "Requirement already satisfied: certifi>=2017.4.17 in /home/monsel/miniconda3/envs/nanoGPT/lib/python3.11/site-packages (from requests>=2.26.0->tiktoken) (2024.8.30)\n"
     ]
    }
   ],
   "source": [
    "! pip install tiktoken\n",
    "import tiktoken"
   ]
  },
  {
   "cell_type": "markdown",
   "metadata": {},
   "source": [
    "Here's is also a quick example of how the tokenizer works."
   ]
  },
  {
   "cell_type": "code",
   "execution_count": 11,
   "metadata": {},
   "outputs": [
    {
     "name": "stdout",
     "output_type": "stream",
     "text": [
      "The vocab size of the tokenizer is 50257\n",
      "The text 'the king will' is encoded by OpenAI's tokenizer and fed to the GPT2 as [1169, 5822, 481]\n"
     ]
    }
   ],
   "source": [
    "# Let's use the gpt2 tokenizer encoding \n",
    "enc = tiktoken.get_encoding(\"r50k_base\")\n",
    "vocab_size = enc.n_vocab\n",
    "print(\"The vocab size of the tokenizer is\", vocab_size)\n",
    "\n",
    "# Similarly to the encode and decode functions defined above, the encoding object has encode and decode methods.\n",
    "shakspeare_lines = \"the king will\"\n",
    "x = enc.encode(shakspeare_lines)\n",
    "print(\"The text '{}' is encoded by OpenAI's tokenizer and fed to the GPT2 as {}\".format(shakspeare_lines, x))\n",
    "assert enc.decode(x) == shakspeare_lines"
   ]
  },
  {
   "cell_type": "markdown",
   "metadata": {},
   "source": [
    "Since the tokenizer is different, we also need to generate the data again. We will use the same Shakespeare dataset, but we will use the new tokenizer to encode the data."
   ]
  },
  {
   "cell_type": "code",
   "execution_count": 12,
   "metadata": {},
   "outputs": [
    {
     "name": "stdout",
     "output_type": "stream",
     "text": [
      "train has 304,222 tokens\n",
      "val has 33,803 tokens\n"
     ]
    }
   ],
   "source": [
    "! python data/shakespeare_word/prepare.py --openai_gpt2_tokenizer=1"
   ]
  },
  {
   "cell_type": "code",
   "execution_count": 39,
   "metadata": {},
   "outputs": [
    {
     "name": "stdout",
     "output_type": "stream",
     "text": [
      "GPT number of parameters: 13713233\n"
     ]
    }
   ],
   "source": [
    "block_size = 64\n",
    "n_layer, n_head, n_embd, dropout = 4, 4, 128, 0.0\n",
    "\n",
    "model = GPT2(vocab_size, block_size, n_embd, n_head, n_layer)\n",
    "model = model.to(device)\n",
    "print(\"GPT number of parameters:\", sum(p.numel() for p in model.parameters()))"
   ]
  },
  {
   "cell_type": "markdown",
   "metadata": {},
   "source": [
    "With this new tokenizer, since the `vocab_size` is larger we also have a larger model (14M params) ! We now instantiate our trainer and launch the training."
   ]
  },
  {
   "cell_type": "code",
   "execution_count": 47,
   "metadata": {},
   "outputs": [
    {
     "name": "stdout",
     "output_type": "stream",
     "text": [
      "True\n",
      "Created checkpoint directory at metadata/shakespeare_word_openai_tokenizer/\n"
     ]
    }
   ],
   "source": [
    "from trainer.gpt_trainer import GPTTrainer\n",
    "trainer = GPTTrainer(model, lr=5e-4, checkpoint_path=\"metadata/shakespeare_word_openai_tokenizer/\")"
   ]
  },
  {
   "cell_type": "code",
   "execution_count": 48,
   "metadata": {},
   "outputs": [
    {
     "name": "stderr",
     "output_type": "stream",
     "text": [
      "Iter :1999/2000 Train Loss 3.406e+00 / Eval Loss 4.992e+00: 100%|██████████| 2000/2000 [40:40<00:00,  1.22s/it]\n"
     ]
    }
   ],
   "source": [
    "partial_get_batch = lambda split, batch_size: get_batch(data_dir, split, batch_size, device, block_size, openai_gpt2_tokenizer=True)\n",
    "trainer.train(partial_get_batch, max_iters=2000, batch_size=32, patience=2000, save_every=30)"
   ]
  },
  {
   "cell_type": "code",
   "execution_count": 51,
   "metadata": {},
   "outputs": [
    {
     "data": {
      "text/plain": [
       "<matplotlib.legend.Legend at 0x7d4608149450>"
      ]
     },
     "execution_count": 51,
     "metadata": {},
     "output_type": "execute_result"
    },
    {
     "data": {
      "image/png": "[encoded data removed]",
      "text/plain": [
       "<Figure size 640x480 with 1 Axes>"
      ]
     },
     "metadata": {},
     "output_type": "display_data"
    }
   ],
   "source": [
    "plt.plot(trainer.losses, label='train')\n",
    "plt.plot(trainer.val_losses, label='val')\n",
    "plt.xlabel('iteration steps')\n",
    "plt.ylabel('loss')\n",
    "plt.legend()"
   ]
  },
  {
   "cell_type": "markdown",
   "metadata": {},
   "source": [
    "We see here that the Tokenizer and the training together does have better formatting of Shakespeare style text. In terms of generation its still hard to tell. What we know from LLMs is that after a certain size, they start to perform really well ! Lets try to push by training even more, but we will need to use several GPUs for that."
   ]
  },
  {
   "cell_type": "code",
   "execution_count": 52,
   "metadata": {},
   "outputs": [
    {
     "name": "stderr",
     "output_type": "stream",
     "text": [
      "100%|██████████| 128/128 [00:00<00:00, 138.36it/s]"
     ]
    },
    {
     "name": "stdout",
     "output_type": "stream",
     "text": [
      "QUEEN MARGARET \n",
      "Thou cannot live home but by thy oath\n",
      "Is some sparks for a plats; they are a match,\n",
      "Abbotly Baptista Minola. O what thou hast\n",
      "Shall I been enough on Stanley?\n",
      "\n",
      "GREEN:\n",
      "That she is three thousand thanks, to weep then,\n",
      "Which can make no longer stay with her deeds.\n",
      "\n",
      "ROMEO:\n",
      "But that, say 'neven, bear says too cold abroad.\n",
      "\n",
      "Servant:\n",
      "Be too; they stay now awake to shun abroad.\n",
      "\n",
      "GRUMNIA:\n",
      "Can I are to Rome; I think to have any\n"
     ]
    },
    {
     "name": "stderr",
     "output_type": "stream",
     "text": [
      "\n"
     ]
    }
   ],
   "source": [
    "model.eval()\n",
    "x = torch.tensor(enc.encode(\"QUEEN MARGARET \\n\"))\n",
    "x = x.view(1, -1).to(device)\n",
    "y = model.generate(x, 2*64, temperature=1.0, top_k=None)\n",
    "decoded_y = enc.decode(y[0].tolist())\n",
    "print(decoded_y)"
   ]
  },
  {
   "cell_type": "markdown",
   "metadata": {},
   "source": [
    "# Using multiple GPUs to scale your GPT model"
   ]
  },
  {
   "cell_type": "markdown",
   "metadata": {},
   "source": [
    "We will use Pytorch's DistributedDataParallel (https://pytorch.org/tutorials/intermediate/ddp_tutorial.html) to train, our GPT model with several GPUs. \n",
    "\n",
    "Please note that the model itself will be larger but not that big ; using FSDP (https://pytorch.org/tutorials/intermediate/FSDP_tutorial.html) would be overkill here !"
   ]
  },
  {
   "cell_type": "code",
   "execution_count": null,
   "metadata": {},
   "outputs": [],
   "source": []
  }
 ],
 "metadata": {
  "kernelspec": {
   "display_name": "nanoGPT",
   "language": "python",
   "name": "python3"
  },
  "language_info": {
   "codemirror_mode": {
    "name": "ipython",
    "version": 3
   },
   "file_extension": ".py",
   "mimetype": "text/x-python",
   "name": "python",
   "nbconvert_exporter": "python",
   "pygments_lexer": "ipython3",
   "version": "3.11.10"
  }
 },
 "nbformat": 4,
 "nbformat_minor": 2
}
